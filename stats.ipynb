{
 "cells": [
  {
   "cell_type": "markdown",
   "metadata": {},
   "source": [
    "statistics: a field used to collect, organise, analyse the data and helps in predictions. we can present (visualise) the data. \n",
    "Eg: Sports,     "
   ]
  },
  {
   "cell_type": "markdown",
   "metadata": {},
   "source": [
    "DESCRIPTIVE: 1. central tendancy: mean, median, mode <br>\n",
    "             2. Measure of Dispersion: Variance, Standard Deviation <br><br>\n",
    "INFERENTIAL: Collect Data-> Tests(T test, Z test) -> Conclusions/ Inferences <br>\n",
    "\n",
    "\n",
    "Population  : N <br>\n",
    "Sample Size : n"
   ]
  },
  {
   "cell_type": "markdown",
   "metadata": {},
   "source": [
    "Population Mean(Myu)= Sigma i=1 to N (xi/N) <br>\n",
    "Sample Mean (x bar) = Sigma i=1 to N (xi/n) <br>\n",
    "Median = ((N+1)/2)th term for odd size <br>\n",
    "(((N+1)/2)th +(N/2)th)/2"
   ]
  },
  {
   "cell_type": "markdown",
   "metadata": {},
   "source": [
    "<img src=\"C:\\Users\\CVR\\Desktop\\python\\Screenshot (9).png\">"
   ]
  },
  {
   "cell_type": "markdown",
   "metadata": {},
   "source": [
    "## Kernel Density Estimation (KDE)\n",
    "\n",
    "Kernel Density Estimation is a non-parametric method for estimating the probability density function of a continuous random variable.\n",
    "\n",
    "<br>\n",
    "    [\"Data Points\"] --> [\"Kernel Functions\"]\n",
    "    --> [\"Sum of Kernels\"]\n",
    "     --> [\"Density Estimate\"]\n",
    "<br>\n",
    "\n",
    "Key components of KDE:<br>\n",
    "\n",
    "- Kernel Function: Usually a symmetric probability density function (e.g., Gaussian)<br>\n",
    "- Bandwidth: Controls the smoothness of the estimation<br>\n",
    "- Sample Points: Original data points used for estimation<br>\n",
    "\n",
    "Applications of KDE:<br>\n",
    "\n",
    "- Data visualization and exploration<br>\n",
    "- Probability density estimation<br>\n",
    "- Pattern recognition<br>\n",
    "- Anomaly detection<br>\n",
    "<br>\n",
    "import numpy as np<br>\n",
    "from scipy.stats import gaussian_kde<br>\n",
    "<br>\n",
    "\n",
    "Example of KDE implementation<br>\n",
    "data = np.random.normal(0, 1, 1000)<br>\n",
    "kde = gaussian_kde(data)<br>\n",
    "x = np.linspace(-4, 4, 100)<br>\n",
    "density = kde(x)<br>"
   ]
  },
  {
   "cell_type": "markdown",
   "metadata": {},
   "source": []
  },
  {
   "cell_type": "markdown",
   "metadata": {},
   "source": [
    "1. GlobalSupply Corp, a leading distributor managing a vast inventory of products across multiple dealers located in various geographic locations, faces challenges in efficiently tracking and managing stock levels. Manual tracking methods and fragmented data reporting result in inventory discrepancies, irregular stock consumption, and potential risks of stockouts or over-accumulation. <br>\n",
    "To address these issues, GlobalSupply Corp aims to develop an AI-Driven Inventory Management System that will streamline daily updates of inventory data and enable predictive risk analysis for stock management. <br>\n",
    "Core Features of the System: <br>\n",
    "Inventory Data Management: <br>\n",
    "Create, update, and manage daily inventory data for multiple products across different dealers. <br>\n",
    "Centralized dashboard for real-time inventory visibility across all locations. <br>\n",
    "Dealer-Specific Stock Analysis: <br>\n",
    "Track consumption patterns for each dealer. <br>\n",
    "Detect irregularities in stock movement, such as sudden spikes or drops in stock levels. <br>\n",
    "Risk Prediction and Alerts: <br>\n",
    "Predict the risk of stockouts or over-accumulation based on historical usage patterns and trends. <br>\n",
    "Generate early warnings and alerts for high-risk scenarios. <br>\n",
    "Usage Pattern Analysis: <br>\n",
    "Analyze past data to identify seasonality and trends in product demand. <br>\n",
    "Forecast future inventory requirements based on consumption behavior. <br>\n",
    "Geographic Insights: <br>\n",
    "Assess regional stock patterns and demand fluctuations. <br>\n",
    "Optimize stock distribution across locations to avoid shortages or surpluses. <br>\n",
    "Business Goal: <br>\n",
    "The primary objective is to build an AI-powered Inventory Management System that tracks, updates, and analyzes inventory data, providing actionable insights to reduce risks and improve stock availability across all dealers. This will help the organization optimize inventory levels, reduce operational costs, and enhance dealer satisfaction. <br><br>2. SocialPulse Analytics, a leading social media intelligence platform, seeks to build a system that tracks user interactions such as likes, dislikes, comments, and shares on social media posts. Each post is enriched with metadata, including actor details, emotions, topics, and other contextual information. The goal is to help the client gain deep insights into user engagement and sentiment trends. <br>\n",
    "Business Goal: <br>\n",
    "Develop a Social Media Post Tracking System that can track, analyze, and report user interactions in real time. This system will provide actionable insights into engagement patterns, audience sentiment, and content performance. <br>\n",
    "Core Features of the System: <br>\n",
    "Interaction Tracking: <br>\n",
    "Track likes, dislikes, comments, shares, and reactions for each post in real time. <br>\n",
    "Monitor engagement across multiple social media platforms. <br>\n",
    "Metadata Collection and Analysis: <br>\n",
    "Collect metadata such as actor (user details), emotion (positive, neutral, negative sentiment), and topic (content category). <br>\n",
    "Analyze how different metadata attributes affect user engagement and sentiment. <br>\n",
    "Sentiment Analysis: <br>\n",
    "Use Natural Language Processing (NLP) to determine the sentiment of comments and captions. <br>\n",
    "Classify comments into categories like positive, negative, or neutral. <br>\n",
    "Trend Detection: <br>\n",
    "Identify trending topics and viral posts based on interaction volume. <br>\n",
    "Generate alerts for rapid engagement changes. <br>\n",
    "Engagement and Influence Metrics: <br>\n",
    "Calculate engagement rates, user influence scores, and content performance metrics. <br>\n",
    "Provide detailed insights into top-performing posts and key influencers. <br>\n",
    "Topic Clustering and Emotion Mapping: <br>\n",
    "Cluster posts by topic to detect user preferences. <br>\n",
    "Map emotions associated with each post to identify audience mood patterns. <br>\n",
    "Influencing Factors: <br>\n",
    "Post Content: Content quality, relevance, and format (text, image, video) affect engagement. <br>\n",
    "Time of Posting: Timing plays a crucial role in interaction rates (e.g., higher engagement during specific hours or days). <br>\n",
    "Actor Influence: Posts by influencers or verified users often receive higher engagement. <br>\n",
    "Emotion in Content: Emotional posts (positive or negative) attract more interactions. <br>\n",
    "Current Events and Trends: Trending topics tend to generate more reactions. <br>\n",
    "User rns: Individual user preferences and habits affect how they interact with content. <br>"
   ]
  },
  {
   "cell_type": "markdown",
   "metadata": {},
   "source": []
  }
 ],
 "metadata": {
  "language_info": {
   "name": "python"
  }
 },
 "nbformat": 4,
 "nbformat_minor": 2
}
