{
 "cells": [
  {
   "cell_type": "markdown",
   "metadata": {},
   "source": [
    "statistics: a field used to collect, organise, analyse the data and helps in predictions. we can present (visualise) the data. \n",
    "Eg: Sports,     "
   ]
  },
  {
   "cell_type": "markdown",
   "metadata": {},
   "source": [
    "DESCRIPTIVE: 1. central tendancy: mean, median, mode <br>\n",
    "             2. Measure of Dispersion: Variance, Standard Deviation <br><br>\n",
    "INFERENTIAL: Collect Data-> Tests(T test, Z test) -> Conclusions/ Inferences <br>\n",
    "\n",
    "\n",
    "Population  : N <br>\n",
    "Sample Size : n"
   ]
  },
  {
   "cell_type": "markdown",
   "metadata": {},
   "source": [
    "Population Mean(Myu)= Sigma i=1 to N (xi/N) <br>\n",
    "Sample Mean (x bar) = Sigma i=1 to N (xi/n) <br>\n",
    "Median = ((N+1)/2)th term for odd size <br>\n",
    "(((N+1)/2)th +(N/2)th)/2"
   ]
  },
  {
   "cell_type": "markdown",
   "metadata": {},
   "source": [
    "<img src=\"C:\\Users\\CVR\\Desktop\\python\\Screenshot (9).png\">"
   ]
  },
  {
   "cell_type": "markdown",
   "metadata": {},
   "source": [
    "## Kernel Density Estimation (KDE)\n",
    "\n",
    "Kernel Density Estimation is a non-parametric method for estimating the probability density function of a continuous random variable.\n",
    "\n",
    "<br>\n",
    "    [\"Data Points\"] --> [\"Kernel Functions\"]\n",
    "    --> [\"Sum of Kernels\"]\n",
    "     --> [\"Density Estimate\"]\n",
    "<br>\n",
    "\n",
    "Key components of KDE:<br>\n",
    "\n",
    "- Kernel Function: Usually a symmetric probability density function (e.g., Gaussian)<br>\n",
    "- Bandwidth: Controls the smoothness of the estimation<br>\n",
    "- Sample Points: Original data points used for estimation<br>\n",
    "\n",
    "Applications of KDE:<br>\n",
    "\n",
    "- Data visualization and exploration<br>\n",
    "- Probability density estimation<br>\n",
    "- Pattern recognition<br>\n",
    "- Anomaly detection<br>\n",
    "<br>\n",
    "import numpy as np<br>\n",
    "from scipy.stats import gaussian_kde<br>\n",
    "<br>\n",
    "\n",
    "Example of KDE implementation<br>\n",
    "data = np.random.normal(0, 1, 1000)<br>\n",
    "kde = gaussian_kde(data)<br>\n",
    "x = np.linspace(-4, 4, 100)<br>\n",
    "density = kde(x)<br>"
   ]
  },
  {
   "cell_type": "markdown",
   "metadata": {},
   "source": []
  },
  {
   "cell_type": "markdown",
   "metadata": {},
   "source": [
    "## PROBABILITY"
   ]
  },
  {
   "cell_type": "markdown",
   "metadata": {},
   "source": []
  }
 ],
 "metadata": {
  "language_info": {
   "name": "python"
  }
 },
 "nbformat": 4,
 "nbformat_minor": 2
}
